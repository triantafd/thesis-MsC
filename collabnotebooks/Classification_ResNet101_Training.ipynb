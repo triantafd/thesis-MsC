{
  "nbformat": 4,
  "nbformat_minor": 0,
  "metadata": {
    "colab": {
      "provenance": [],
      "toc_visible": true
    },
    "kernelspec": {
      "name": "python3",
      "display_name": "Python 3"
    },
    "language_info": {
      "name": "python"
    }
  },
  "cells": [
    {
      "cell_type": "markdown",
      "source": [
        "#1. Import the necessary libraries:\n",
        "\n",
        "1.   List item\n",
        "2.   List item\n",
        "\n"
      ],
      "metadata": {
        "id": "kNS4XdPt_IuE"
      }
    },
    {
      "cell_type": "code",
      "source": [
        "# Mount Google Drive\n",
        "from google.colab import drive\n",
        "drive.mount('/content/gdrive')"
      ],
      "metadata": {
        "colab": {
          "base_uri": "https://localhost:8080/"
        },
        "id": "qpiFbmOsbCL3",
        "outputId": "88581253-5014-4699-ef7e-21429bcde128"
      },
      "execution_count": null,
      "outputs": [
        {
          "output_type": "stream",
          "name": "stdout",
          "text": [
            "Mounted at /content/gdrive\n"
          ]
        }
      ]
    },
    {
      "cell_type": "code",
      "source": [
        "# Access Google Drive Folder\n",
        "import os\n",
        "COLAB_PATH = \"gdrive/MyDrive\"\n",
        "os.chdir(COLAB_PATH)"
      ],
      "metadata": {
        "id": "q2H0nyrabEeG"
      },
      "execution_count": null,
      "outputs": []
    },
    {
      "cell_type": "code",
      "source": [
        "# Enter to yolov7 folder\n",
        "%cd resnetCarpet\n",
        "!ls"
      ],
      "metadata": {
        "colab": {
          "base_uri": "https://localhost:8080/"
        },
        "id": "nK-plCcbbard",
        "outputId": "8e968b36-7a9b-4e76-b44d-d07efef2a508"
      },
      "execution_count": null,
      "outputs": [
        {
          "output_type": "stream",
          "name": "stdout",
          "text": [
            "/content/gdrive/MyDrive/resnetCarpet\n",
            "best_model_weights.pth\tdata  resnetSplit.zip  save_0.pth  weights\n"
          ]
        }
      ]
    },
    {
      "cell_type": "code",
      "execution_count": null,
      "metadata": {
        "id": "kjeflj2F-w41"
      },
      "outputs": [],
      "source": [
        "import torch\n",
        "import torchvision\n",
        "import torchvision.transforms as transforms\n",
        "import torch.nn as nn\n",
        "\n",
        "import torch.optim as optim\n",
        "import torch.utils.data as data\n",
        "import random\n",
        "import pandas as pd\n",
        "import seaborn as sn"
      ]
    },
    {
      "cell_type": "markdown",
      "source": [
        "# 2. Set up the data loading and preprocessing"
      ],
      "metadata": {
        "id": "EOF1LA-CBvMi"
      }
    },
    {
      "cell_type": "code",
      "source": [
        "# Unzip Dataset\n",
        "#!unzip ./resnetSplit.zip -d ./data/"
      ],
      "metadata": {
        "id": "3-M9qCdk-3G9"
      },
      "execution_count": null,
      "outputs": []
    },
    {
      "cell_type": "code",
      "source": [
        "transform = transforms.Compose([\n",
        "    transforms.Resize((224, 224)),\n",
        "    transforms.RandomHorizontalFlip(),\n",
        "    transforms.RandomRotation(10),\n",
        "    transforms.ToTensor(),\n",
        "    transforms.Normalize((0.5, 0.5, 0.5), (0.5, 0.5, 0.5))])\n",
        "\n",
        "\n",
        "train_dataset = torchvision.datasets.ImageFolder(root='data/resnetSplit/train', transform=transform)\n",
        "val_dataset = torchvision.datasets.ImageFolder(root='data/resnetSplit/validation', transform=transform)\n",
        "test_dataset = torchvision.datasets.ImageFolder(root='data/resnetSplit/test', transform=transform)\n",
        "\n",
        "batch_size = 32\n",
        "\n",
        "train_loader = torch.utils.data.DataLoader(train_dataset, batch_size=batch_size, shuffle=True, num_workers=2)\n",
        "val_loader = torch.utils.data.DataLoader(val_dataset, batch_size=batch_size, shuffle=False, num_workers=2)\n",
        "test_loader = torch.utils.data.DataLoader(test_dataset, batch_size=batch_size, shuffle=False, num_workers=2)\n"
      ],
      "metadata": {
        "id": "Dsrg3WszvM6C"
      },
      "execution_count": null,
      "outputs": []
    },
    {
      "cell_type": "code",
      "source": [
        "print(len(train_loader), len(val_loader))"
      ],
      "metadata": {
        "colab": {
          "base_uri": "https://localhost:8080/"
        },
        "id": "3yXkOWPNyNCF",
        "outputId": "cde49280-ff42-40cd-8e97-33d9ceba2bcd"
      },
      "execution_count": null,
      "outputs": [
        {
          "output_type": "stream",
          "name": "stdout",
          "text": [
            "62 8\n"
          ]
        }
      ]
    },
    {
      "cell_type": "code",
      "source": [
        "class_labels = train_dataset.classes\n",
        "class_labels"
      ],
      "metadata": {
        "colab": {
          "base_uri": "https://localhost:8080/"
        },
        "id": "UrqV6Ql-vM9i",
        "outputId": "05c429ab-7976-494d-df63-e5f46ac90f9a"
      },
      "execution_count": null,
      "outputs": [
        {
          "output_type": "execute_result",
          "data": {
            "text/plain": [
              "['bad_carpet', 'good_carpet']"
            ]
          },
          "metadata": {},
          "execution_count": 40
        }
      ]
    },
    {
      "cell_type": "markdown",
      "source": [
        "## 2. No Cross Validation"
      ],
      "metadata": {
        "id": "5Mo4LWSH_Ubx"
      }
    },
    {
      "cell_type": "markdown",
      "source": [
        "### 2.2 Define the ResNet-101 model:"
      ],
      "metadata": {
        "id": "PdZ4aZGX_Y_P"
      }
    },
    {
      "cell_type": "code",
      "source": [
        "model = torchvision.models.resnet101(pretrained=True)\n",
        "num_features = model.fc.in_features\n",
        "model.fc = nn.Linear(num_features, 2)  # 10 is the number of classes\n",
        "\n",
        "device = torch.device(\"cuda\" if torch.cuda.is_available() else \"cpu\")\n",
        "model.to(device)\n"
      ],
      "metadata": {
        "id": "14oI-74o-3Z-",
        "colab": {
          "base_uri": "https://localhost:8080/"
        },
        "outputId": "cbabd475-61ef-4325-bb15-2ab773e53bff"
      },
      "execution_count": null,
      "outputs": [
        {
          "output_type": "execute_result",
          "data": {
            "text/plain": [
              "ResNet(\n",
              "  (conv1): Conv2d(3, 64, kernel_size=(7, 7), stride=(2, 2), padding=(3, 3), bias=False)\n",
              "  (bn1): BatchNorm2d(64, eps=1e-05, momentum=0.1, affine=True, track_running_stats=True)\n",
              "  (relu): ReLU(inplace=True)\n",
              "  (maxpool): MaxPool2d(kernel_size=3, stride=2, padding=1, dilation=1, ceil_mode=False)\n",
              "  (layer1): Sequential(\n",
              "    (0): Bottleneck(\n",
              "      (conv1): Conv2d(64, 64, kernel_size=(1, 1), stride=(1, 1), bias=False)\n",
              "      (bn1): BatchNorm2d(64, eps=1e-05, momentum=0.1, affine=True, track_running_stats=True)\n",
              "      (conv2): Conv2d(64, 64, kernel_size=(3, 3), stride=(1, 1), padding=(1, 1), bias=False)\n",
              "      (bn2): BatchNorm2d(64, eps=1e-05, momentum=0.1, affine=True, track_running_stats=True)\n",
              "      (conv3): Conv2d(64, 256, kernel_size=(1, 1), stride=(1, 1), bias=False)\n",
              "      (bn3): BatchNorm2d(256, eps=1e-05, momentum=0.1, affine=True, track_running_stats=True)\n",
              "      (relu): ReLU(inplace=True)\n",
              "      (downsample): Sequential(\n",
              "        (0): Conv2d(64, 256, kernel_size=(1, 1), stride=(1, 1), bias=False)\n",
              "        (1): BatchNorm2d(256, eps=1e-05, momentum=0.1, affine=True, track_running_stats=True)\n",
              "      )\n",
              "    )\n",
              "    (1): Bottleneck(\n",
              "      (conv1): Conv2d(256, 64, kernel_size=(1, 1), stride=(1, 1), bias=False)\n",
              "      (bn1): BatchNorm2d(64, eps=1e-05, momentum=0.1, affine=True, track_running_stats=True)\n",
              "      (conv2): Conv2d(64, 64, kernel_size=(3, 3), stride=(1, 1), padding=(1, 1), bias=False)\n",
              "      (bn2): BatchNorm2d(64, eps=1e-05, momentum=0.1, affine=True, track_running_stats=True)\n",
              "      (conv3): Conv2d(64, 256, kernel_size=(1, 1), stride=(1, 1), bias=False)\n",
              "      (bn3): BatchNorm2d(256, eps=1e-05, momentum=0.1, affine=True, track_running_stats=True)\n",
              "      (relu): ReLU(inplace=True)\n",
              "    )\n",
              "    (2): Bottleneck(\n",
              "      (conv1): Conv2d(256, 64, kernel_size=(1, 1), stride=(1, 1), bias=False)\n",
              "      (bn1): BatchNorm2d(64, eps=1e-05, momentum=0.1, affine=True, track_running_stats=True)\n",
              "      (conv2): Conv2d(64, 64, kernel_size=(3, 3), stride=(1, 1), padding=(1, 1), bias=False)\n",
              "      (bn2): BatchNorm2d(64, eps=1e-05, momentum=0.1, affine=True, track_running_stats=True)\n",
              "      (conv3): Conv2d(64, 256, kernel_size=(1, 1), stride=(1, 1), bias=False)\n",
              "      (bn3): BatchNorm2d(256, eps=1e-05, momentum=0.1, affine=True, track_running_stats=True)\n",
              "      (relu): ReLU(inplace=True)\n",
              "    )\n",
              "  )\n",
              "  (layer2): Sequential(\n",
              "    (0): Bottleneck(\n",
              "      (conv1): Conv2d(256, 128, kernel_size=(1, 1), stride=(1, 1), bias=False)\n",
              "      (bn1): BatchNorm2d(128, eps=1e-05, momentum=0.1, affine=True, track_running_stats=True)\n",
              "      (conv2): Conv2d(128, 128, kernel_size=(3, 3), stride=(2, 2), padding=(1, 1), bias=False)\n",
              "      (bn2): BatchNorm2d(128, eps=1e-05, momentum=0.1, affine=True, track_running_stats=True)\n",
              "      (conv3): Conv2d(128, 512, kernel_size=(1, 1), stride=(1, 1), bias=False)\n",
              "      (bn3): BatchNorm2d(512, eps=1e-05, momentum=0.1, affine=True, track_running_stats=True)\n",
              "      (relu): ReLU(inplace=True)\n",
              "      (downsample): Sequential(\n",
              "        (0): Conv2d(256, 512, kernel_size=(1, 1), stride=(2, 2), bias=False)\n",
              "        (1): BatchNorm2d(512, eps=1e-05, momentum=0.1, affine=True, track_running_stats=True)\n",
              "      )\n",
              "    )\n",
              "    (1): Bottleneck(\n",
              "      (conv1): Conv2d(512, 128, kernel_size=(1, 1), stride=(1, 1), bias=False)\n",
              "      (bn1): BatchNorm2d(128, eps=1e-05, momentum=0.1, affine=True, track_running_stats=True)\n",
              "      (conv2): Conv2d(128, 128, kernel_size=(3, 3), stride=(1, 1), padding=(1, 1), bias=False)\n",
              "      (bn2): BatchNorm2d(128, eps=1e-05, momentum=0.1, affine=True, track_running_stats=True)\n",
              "      (conv3): Conv2d(128, 512, kernel_size=(1, 1), stride=(1, 1), bias=False)\n",
              "      (bn3): BatchNorm2d(512, eps=1e-05, momentum=0.1, affine=True, track_running_stats=True)\n",
              "      (relu): ReLU(inplace=True)\n",
              "    )\n",
              "    (2): Bottleneck(\n",
              "      (conv1): Conv2d(512, 128, kernel_size=(1, 1), stride=(1, 1), bias=False)\n",
              "      (bn1): BatchNorm2d(128, eps=1e-05, momentum=0.1, affine=True, track_running_stats=True)\n",
              "      (conv2): Conv2d(128, 128, kernel_size=(3, 3), stride=(1, 1), padding=(1, 1), bias=False)\n",
              "      (bn2): BatchNorm2d(128, eps=1e-05, momentum=0.1, affine=True, track_running_stats=True)\n",
              "      (conv3): Conv2d(128, 512, kernel_size=(1, 1), stride=(1, 1), bias=False)\n",
              "      (bn3): BatchNorm2d(512, eps=1e-05, momentum=0.1, affine=True, track_running_stats=True)\n",
              "      (relu): ReLU(inplace=True)\n",
              "    )\n",
              "    (3): Bottleneck(\n",
              "      (conv1): Conv2d(512, 128, kernel_size=(1, 1), stride=(1, 1), bias=False)\n",
              "      (bn1): BatchNorm2d(128, eps=1e-05, momentum=0.1, affine=True, track_running_stats=True)\n",
              "      (conv2): Conv2d(128, 128, kernel_size=(3, 3), stride=(1, 1), padding=(1, 1), bias=False)\n",
              "      (bn2): BatchNorm2d(128, eps=1e-05, momentum=0.1, affine=True, track_running_stats=True)\n",
              "      (conv3): Conv2d(128, 512, kernel_size=(1, 1), stride=(1, 1), bias=False)\n",
              "      (bn3): BatchNorm2d(512, eps=1e-05, momentum=0.1, affine=True, track_running_stats=True)\n",
              "      (relu): ReLU(inplace=True)\n",
              "    )\n",
              "  )\n",
              "  (layer3): Sequential(\n",
              "    (0): Bottleneck(\n",
              "      (conv1): Conv2d(512, 256, kernel_size=(1, 1), stride=(1, 1), bias=False)\n",
              "      (bn1): BatchNorm2d(256, eps=1e-05, momentum=0.1, affine=True, track_running_stats=True)\n",
              "      (conv2): Conv2d(256, 256, kernel_size=(3, 3), stride=(2, 2), padding=(1, 1), bias=False)\n",
              "      (bn2): BatchNorm2d(256, eps=1e-05, momentum=0.1, affine=True, track_running_stats=True)\n",
              "      (conv3): Conv2d(256, 1024, kernel_size=(1, 1), stride=(1, 1), bias=False)\n",
              "      (bn3): BatchNorm2d(1024, eps=1e-05, momentum=0.1, affine=True, track_running_stats=True)\n",
              "      (relu): ReLU(inplace=True)\n",
              "      (downsample): Sequential(\n",
              "        (0): Conv2d(512, 1024, kernel_size=(1, 1), stride=(2, 2), bias=False)\n",
              "        (1): BatchNorm2d(1024, eps=1e-05, momentum=0.1, affine=True, track_running_stats=True)\n",
              "      )\n",
              "    )\n",
              "    (1): Bottleneck(\n",
              "      (conv1): Conv2d(1024, 256, kernel_size=(1, 1), stride=(1, 1), bias=False)\n",
              "      (bn1): BatchNorm2d(256, eps=1e-05, momentum=0.1, affine=True, track_running_stats=True)\n",
              "      (conv2): Conv2d(256, 256, kernel_size=(3, 3), stride=(1, 1), padding=(1, 1), bias=False)\n",
              "      (bn2): BatchNorm2d(256, eps=1e-05, momentum=0.1, affine=True, track_running_stats=True)\n",
              "      (conv3): Conv2d(256, 1024, kernel_size=(1, 1), stride=(1, 1), bias=False)\n",
              "      (bn3): BatchNorm2d(1024, eps=1e-05, momentum=0.1, affine=True, track_running_stats=True)\n",
              "      (relu): ReLU(inplace=True)\n",
              "    )\n",
              "    (2): Bottleneck(\n",
              "      (conv1): Conv2d(1024, 256, kernel_size=(1, 1), stride=(1, 1), bias=False)\n",
              "      (bn1): BatchNorm2d(256, eps=1e-05, momentum=0.1, affine=True, track_running_stats=True)\n",
              "      (conv2): Conv2d(256, 256, kernel_size=(3, 3), stride=(1, 1), padding=(1, 1), bias=False)\n",
              "      (bn2): BatchNorm2d(256, eps=1e-05, momentum=0.1, affine=True, track_running_stats=True)\n",
              "      (conv3): Conv2d(256, 1024, kernel_size=(1, 1), stride=(1, 1), bias=False)\n",
              "      (bn3): BatchNorm2d(1024, eps=1e-05, momentum=0.1, affine=True, track_running_stats=True)\n",
              "      (relu): ReLU(inplace=True)\n",
              "    )\n",
              "    (3): Bottleneck(\n",
              "      (conv1): Conv2d(1024, 256, kernel_size=(1, 1), stride=(1, 1), bias=False)\n",
              "      (bn1): BatchNorm2d(256, eps=1e-05, momentum=0.1, affine=True, track_running_stats=True)\n",
              "      (conv2): Conv2d(256, 256, kernel_size=(3, 3), stride=(1, 1), padding=(1, 1), bias=False)\n",
              "      (bn2): BatchNorm2d(256, eps=1e-05, momentum=0.1, affine=True, track_running_stats=True)\n",
              "      (conv3): Conv2d(256, 1024, kernel_size=(1, 1), stride=(1, 1), bias=False)\n",
              "      (bn3): BatchNorm2d(1024, eps=1e-05, momentum=0.1, affine=True, track_running_stats=True)\n",
              "      (relu): ReLU(inplace=True)\n",
              "    )\n",
              "    (4): Bottleneck(\n",
              "      (conv1): Conv2d(1024, 256, kernel_size=(1, 1), stride=(1, 1), bias=False)\n",
              "      (bn1): BatchNorm2d(256, eps=1e-05, momentum=0.1, affine=True, track_running_stats=True)\n",
              "      (conv2): Conv2d(256, 256, kernel_size=(3, 3), stride=(1, 1), padding=(1, 1), bias=False)\n",
              "      (bn2): BatchNorm2d(256, eps=1e-05, momentum=0.1, affine=True, track_running_stats=True)\n",
              "      (conv3): Conv2d(256, 1024, kernel_size=(1, 1), stride=(1, 1), bias=False)\n",
              "      (bn3): BatchNorm2d(1024, eps=1e-05, momentum=0.1, affine=True, track_running_stats=True)\n",
              "      (relu): ReLU(inplace=True)\n",
              "    )\n",
              "    (5): Bottleneck(\n",
              "      (conv1): Conv2d(1024, 256, kernel_size=(1, 1), stride=(1, 1), bias=False)\n",
              "      (bn1): BatchNorm2d(256, eps=1e-05, momentum=0.1, affine=True, track_running_stats=True)\n",
              "      (conv2): Conv2d(256, 256, kernel_size=(3, 3), stride=(1, 1), padding=(1, 1), bias=False)\n",
              "      (bn2): BatchNorm2d(256, eps=1e-05, momentum=0.1, affine=True, track_running_stats=True)\n",
              "      (conv3): Conv2d(256, 1024, kernel_size=(1, 1), stride=(1, 1), bias=False)\n",
              "      (bn3): BatchNorm2d(1024, eps=1e-05, momentum=0.1, affine=True, track_running_stats=True)\n",
              "      (relu): ReLU(inplace=True)\n",
              "    )\n",
              "    (6): Bottleneck(\n",
              "      (conv1): Conv2d(1024, 256, kernel_size=(1, 1), stride=(1, 1), bias=False)\n",
              "      (bn1): BatchNorm2d(256, eps=1e-05, momentum=0.1, affine=True, track_running_stats=True)\n",
              "      (conv2): Conv2d(256, 256, kernel_size=(3, 3), stride=(1, 1), padding=(1, 1), bias=False)\n",
              "      (bn2): BatchNorm2d(256, eps=1e-05, momentum=0.1, affine=True, track_running_stats=True)\n",
              "      (conv3): Conv2d(256, 1024, kernel_size=(1, 1), stride=(1, 1), bias=False)\n",
              "      (bn3): BatchNorm2d(1024, eps=1e-05, momentum=0.1, affine=True, track_running_stats=True)\n",
              "      (relu): ReLU(inplace=True)\n",
              "    )\n",
              "    (7): Bottleneck(\n",
              "      (conv1): Conv2d(1024, 256, kernel_size=(1, 1), stride=(1, 1), bias=False)\n",
              "      (bn1): BatchNorm2d(256, eps=1e-05, momentum=0.1, affine=True, track_running_stats=True)\n",
              "      (conv2): Conv2d(256, 256, kernel_size=(3, 3), stride=(1, 1), padding=(1, 1), bias=False)\n",
              "      (bn2): BatchNorm2d(256, eps=1e-05, momentum=0.1, affine=True, track_running_stats=True)\n",
              "      (conv3): Conv2d(256, 1024, kernel_size=(1, 1), stride=(1, 1), bias=False)\n",
              "      (bn3): BatchNorm2d(1024, eps=1e-05, momentum=0.1, affine=True, track_running_stats=True)\n",
              "      (relu): ReLU(inplace=True)\n",
              "    )\n",
              "    (8): Bottleneck(\n",
              "      (conv1): Conv2d(1024, 256, kernel_size=(1, 1), stride=(1, 1), bias=False)\n",
              "      (bn1): BatchNorm2d(256, eps=1e-05, momentum=0.1, affine=True, track_running_stats=True)\n",
              "      (conv2): Conv2d(256, 256, kernel_size=(3, 3), stride=(1, 1), padding=(1, 1), bias=False)\n",
              "      (bn2): BatchNorm2d(256, eps=1e-05, momentum=0.1, affine=True, track_running_stats=True)\n",
              "      (conv3): Conv2d(256, 1024, kernel_size=(1, 1), stride=(1, 1), bias=False)\n",
              "      (bn3): BatchNorm2d(1024, eps=1e-05, momentum=0.1, affine=True, track_running_stats=True)\n",
              "      (relu): ReLU(inplace=True)\n",
              "    )\n",
              "    (9): Bottleneck(\n",
              "      (conv1): Conv2d(1024, 256, kernel_size=(1, 1), stride=(1, 1), bias=False)\n",
              "      (bn1): BatchNorm2d(256, eps=1e-05, momentum=0.1, affine=True, track_running_stats=True)\n",
              "      (conv2): Conv2d(256, 256, kernel_size=(3, 3), stride=(1, 1), padding=(1, 1), bias=False)\n",
              "      (bn2): BatchNorm2d(256, eps=1e-05, momentum=0.1, affine=True, track_running_stats=True)\n",
              "      (conv3): Conv2d(256, 1024, kernel_size=(1, 1), stride=(1, 1), bias=False)\n",
              "      (bn3): BatchNorm2d(1024, eps=1e-05, momentum=0.1, affine=True, track_running_stats=True)\n",
              "      (relu): ReLU(inplace=True)\n",
              "    )\n",
              "    (10): Bottleneck(\n",
              "      (conv1): Conv2d(1024, 256, kernel_size=(1, 1), stride=(1, 1), bias=False)\n",
              "      (bn1): BatchNorm2d(256, eps=1e-05, momentum=0.1, affine=True, track_running_stats=True)\n",
              "      (conv2): Conv2d(256, 256, kernel_size=(3, 3), stride=(1, 1), padding=(1, 1), bias=False)\n",
              "      (bn2): BatchNorm2d(256, eps=1e-05, momentum=0.1, affine=True, track_running_stats=True)\n",
              "      (conv3): Conv2d(256, 1024, kernel_size=(1, 1), stride=(1, 1), bias=False)\n",
              "      (bn3): BatchNorm2d(1024, eps=1e-05, momentum=0.1, affine=True, track_running_stats=True)\n",
              "      (relu): ReLU(inplace=True)\n",
              "    )\n",
              "    (11): Bottleneck(\n",
              "      (conv1): Conv2d(1024, 256, kernel_size=(1, 1), stride=(1, 1), bias=False)\n",
              "      (bn1): BatchNorm2d(256, eps=1e-05, momentum=0.1, affine=True, track_running_stats=True)\n",
              "      (conv2): Conv2d(256, 256, kernel_size=(3, 3), stride=(1, 1), padding=(1, 1), bias=False)\n",
              "      (bn2): BatchNorm2d(256, eps=1e-05, momentum=0.1, affine=True, track_running_stats=True)\n",
              "      (conv3): Conv2d(256, 1024, kernel_size=(1, 1), stride=(1, 1), bias=False)\n",
              "      (bn3): BatchNorm2d(1024, eps=1e-05, momentum=0.1, affine=True, track_running_stats=True)\n",
              "      (relu): ReLU(inplace=True)\n",
              "    )\n",
              "    (12): Bottleneck(\n",
              "      (conv1): Conv2d(1024, 256, kernel_size=(1, 1), stride=(1, 1), bias=False)\n",
              "      (bn1): BatchNorm2d(256, eps=1e-05, momentum=0.1, affine=True, track_running_stats=True)\n",
              "      (conv2): Conv2d(256, 256, kernel_size=(3, 3), stride=(1, 1), padding=(1, 1), bias=False)\n",
              "      (bn2): BatchNorm2d(256, eps=1e-05, momentum=0.1, affine=True, track_running_stats=True)\n",
              "      (conv3): Conv2d(256, 1024, kernel_size=(1, 1), stride=(1, 1), bias=False)\n",
              "      (bn3): BatchNorm2d(1024, eps=1e-05, momentum=0.1, affine=True, track_running_stats=True)\n",
              "      (relu): ReLU(inplace=True)\n",
              "    )\n",
              "    (13): Bottleneck(\n",
              "      (conv1): Conv2d(1024, 256, kernel_size=(1, 1), stride=(1, 1), bias=False)\n",
              "      (bn1): BatchNorm2d(256, eps=1e-05, momentum=0.1, affine=True, track_running_stats=True)\n",
              "      (conv2): Conv2d(256, 256, kernel_size=(3, 3), stride=(1, 1), padding=(1, 1), bias=False)\n",
              "      (bn2): BatchNorm2d(256, eps=1e-05, momentum=0.1, affine=True, track_running_stats=True)\n",
              "      (conv3): Conv2d(256, 1024, kernel_size=(1, 1), stride=(1, 1), bias=False)\n",
              "      (bn3): BatchNorm2d(1024, eps=1e-05, momentum=0.1, affine=True, track_running_stats=True)\n",
              "      (relu): ReLU(inplace=True)\n",
              "    )\n",
              "    (14): Bottleneck(\n",
              "      (conv1): Conv2d(1024, 256, kernel_size=(1, 1), stride=(1, 1), bias=False)\n",
              "      (bn1): BatchNorm2d(256, eps=1e-05, momentum=0.1, affine=True, track_running_stats=True)\n",
              "      (conv2): Conv2d(256, 256, kernel_size=(3, 3), stride=(1, 1), padding=(1, 1), bias=False)\n",
              "      (bn2): BatchNorm2d(256, eps=1e-05, momentum=0.1, affine=True, track_running_stats=True)\n",
              "      (conv3): Conv2d(256, 1024, kernel_size=(1, 1), stride=(1, 1), bias=False)\n",
              "      (bn3): BatchNorm2d(1024, eps=1e-05, momentum=0.1, affine=True, track_running_stats=True)\n",
              "      (relu): ReLU(inplace=True)\n",
              "    )\n",
              "    (15): Bottleneck(\n",
              "      (conv1): Conv2d(1024, 256, kernel_size=(1, 1), stride=(1, 1), bias=False)\n",
              "      (bn1): BatchNorm2d(256, eps=1e-05, momentum=0.1, affine=True, track_running_stats=True)\n",
              "      (conv2): Conv2d(256, 256, kernel_size=(3, 3), stride=(1, 1), padding=(1, 1), bias=False)\n",
              "      (bn2): BatchNorm2d(256, eps=1e-05, momentum=0.1, affine=True, track_running_stats=True)\n",
              "      (conv3): Conv2d(256, 1024, kernel_size=(1, 1), stride=(1, 1), bias=False)\n",
              "      (bn3): BatchNorm2d(1024, eps=1e-05, momentum=0.1, affine=True, track_running_stats=True)\n",
              "      (relu): ReLU(inplace=True)\n",
              "    )\n",
              "    (16): Bottleneck(\n",
              "      (conv1): Conv2d(1024, 256, kernel_size=(1, 1), stride=(1, 1), bias=False)\n",
              "      (bn1): BatchNorm2d(256, eps=1e-05, momentum=0.1, affine=True, track_running_stats=True)\n",
              "      (conv2): Conv2d(256, 256, kernel_size=(3, 3), stride=(1, 1), padding=(1, 1), bias=False)\n",
              "      (bn2): BatchNorm2d(256, eps=1e-05, momentum=0.1, affine=True, track_running_stats=True)\n",
              "      (conv3): Conv2d(256, 1024, kernel_size=(1, 1), stride=(1, 1), bias=False)\n",
              "      (bn3): BatchNorm2d(1024, eps=1e-05, momentum=0.1, affine=True, track_running_stats=True)\n",
              "      (relu): ReLU(inplace=True)\n",
              "    )\n",
              "    (17): Bottleneck(\n",
              "      (conv1): Conv2d(1024, 256, kernel_size=(1, 1), stride=(1, 1), bias=False)\n",
              "      (bn1): BatchNorm2d(256, eps=1e-05, momentum=0.1, affine=True, track_running_stats=True)\n",
              "      (conv2): Conv2d(256, 256, kernel_size=(3, 3), stride=(1, 1), padding=(1, 1), bias=False)\n",
              "      (bn2): BatchNorm2d(256, eps=1e-05, momentum=0.1, affine=True, track_running_stats=True)\n",
              "      (conv3): Conv2d(256, 1024, kernel_size=(1, 1), stride=(1, 1), bias=False)\n",
              "      (bn3): BatchNorm2d(1024, eps=1e-05, momentum=0.1, affine=True, track_running_stats=True)\n",
              "      (relu): ReLU(inplace=True)\n",
              "    )\n",
              "    (18): Bottleneck(\n",
              "      (conv1): Conv2d(1024, 256, kernel_size=(1, 1), stride=(1, 1), bias=False)\n",
              "      (bn1): BatchNorm2d(256, eps=1e-05, momentum=0.1, affine=True, track_running_stats=True)\n",
              "      (conv2): Conv2d(256, 256, kernel_size=(3, 3), stride=(1, 1), padding=(1, 1), bias=False)\n",
              "      (bn2): BatchNorm2d(256, eps=1e-05, momentum=0.1, affine=True, track_running_stats=True)\n",
              "      (conv3): Conv2d(256, 1024, kernel_size=(1, 1), stride=(1, 1), bias=False)\n",
              "      (bn3): BatchNorm2d(1024, eps=1e-05, momentum=0.1, affine=True, track_running_stats=True)\n",
              "      (relu): ReLU(inplace=True)\n",
              "    )\n",
              "    (19): Bottleneck(\n",
              "      (conv1): Conv2d(1024, 256, kernel_size=(1, 1), stride=(1, 1), bias=False)\n",
              "      (bn1): BatchNorm2d(256, eps=1e-05, momentum=0.1, affine=True, track_running_stats=True)\n",
              "      (conv2): Conv2d(256, 256, kernel_size=(3, 3), stride=(1, 1), padding=(1, 1), bias=False)\n",
              "      (bn2): BatchNorm2d(256, eps=1e-05, momentum=0.1, affine=True, track_running_stats=True)\n",
              "      (conv3): Conv2d(256, 1024, kernel_size=(1, 1), stride=(1, 1), bias=False)\n",
              "      (bn3): BatchNorm2d(1024, eps=1e-05, momentum=0.1, affine=True, track_running_stats=True)\n",
              "      (relu): ReLU(inplace=True)\n",
              "    )\n",
              "    (20): Bottleneck(\n",
              "      (conv1): Conv2d(1024, 256, kernel_size=(1, 1), stride=(1, 1), bias=False)\n",
              "      (bn1): BatchNorm2d(256, eps=1e-05, momentum=0.1, affine=True, track_running_stats=True)\n",
              "      (conv2): Conv2d(256, 256, kernel_size=(3, 3), stride=(1, 1), padding=(1, 1), bias=False)\n",
              "      (bn2): BatchNorm2d(256, eps=1e-05, momentum=0.1, affine=True, track_running_stats=True)\n",
              "      (conv3): Conv2d(256, 1024, kernel_size=(1, 1), stride=(1, 1), bias=False)\n",
              "      (bn3): BatchNorm2d(1024, eps=1e-05, momentum=0.1, affine=True, track_running_stats=True)\n",
              "      (relu): ReLU(inplace=True)\n",
              "    )\n",
              "    (21): Bottleneck(\n",
              "      (conv1): Conv2d(1024, 256, kernel_size=(1, 1), stride=(1, 1), bias=False)\n",
              "      (bn1): BatchNorm2d(256, eps=1e-05, momentum=0.1, affine=True, track_running_stats=True)\n",
              "      (conv2): Conv2d(256, 256, kernel_size=(3, 3), stride=(1, 1), padding=(1, 1), bias=False)\n",
              "      (bn2): BatchNorm2d(256, eps=1e-05, momentum=0.1, affine=True, track_running_stats=True)\n",
              "      (conv3): Conv2d(256, 1024, kernel_size=(1, 1), stride=(1, 1), bias=False)\n",
              "      (bn3): BatchNorm2d(1024, eps=1e-05, momentum=0.1, affine=True, track_running_stats=True)\n",
              "      (relu): ReLU(inplace=True)\n",
              "    )\n",
              "    (22): Bottleneck(\n",
              "      (conv1): Conv2d(1024, 256, kernel_size=(1, 1), stride=(1, 1), bias=False)\n",
              "      (bn1): BatchNorm2d(256, eps=1e-05, momentum=0.1, affine=True, track_running_stats=True)\n",
              "      (conv2): Conv2d(256, 256, kernel_size=(3, 3), stride=(1, 1), padding=(1, 1), bias=False)\n",
              "      (bn2): BatchNorm2d(256, eps=1e-05, momentum=0.1, affine=True, track_running_stats=True)\n",
              "      (conv3): Conv2d(256, 1024, kernel_size=(1, 1), stride=(1, 1), bias=False)\n",
              "      (bn3): BatchNorm2d(1024, eps=1e-05, momentum=0.1, affine=True, track_running_stats=True)\n",
              "      (relu): ReLU(inplace=True)\n",
              "    )\n",
              "  )\n",
              "  (layer4): Sequential(\n",
              "    (0): Bottleneck(\n",
              "      (conv1): Conv2d(1024, 512, kernel_size=(1, 1), stride=(1, 1), bias=False)\n",
              "      (bn1): BatchNorm2d(512, eps=1e-05, momentum=0.1, affine=True, track_running_stats=True)\n",
              "      (conv2): Conv2d(512, 512, kernel_size=(3, 3), stride=(2, 2), padding=(1, 1), bias=False)\n",
              "      (bn2): BatchNorm2d(512, eps=1e-05, momentum=0.1, affine=True, track_running_stats=True)\n",
              "      (conv3): Conv2d(512, 2048, kernel_size=(1, 1), stride=(1, 1), bias=False)\n",
              "      (bn3): BatchNorm2d(2048, eps=1e-05, momentum=0.1, affine=True, track_running_stats=True)\n",
              "      (relu): ReLU(inplace=True)\n",
              "      (downsample): Sequential(\n",
              "        (0): Conv2d(1024, 2048, kernel_size=(1, 1), stride=(2, 2), bias=False)\n",
              "        (1): BatchNorm2d(2048, eps=1e-05, momentum=0.1, affine=True, track_running_stats=True)\n",
              "      )\n",
              "    )\n",
              "    (1): Bottleneck(\n",
              "      (conv1): Conv2d(2048, 512, kernel_size=(1, 1), stride=(1, 1), bias=False)\n",
              "      (bn1): BatchNorm2d(512, eps=1e-05, momentum=0.1, affine=True, track_running_stats=True)\n",
              "      (conv2): Conv2d(512, 512, kernel_size=(3, 3), stride=(1, 1), padding=(1, 1), bias=False)\n",
              "      (bn2): BatchNorm2d(512, eps=1e-05, momentum=0.1, affine=True, track_running_stats=True)\n",
              "      (conv3): Conv2d(512, 2048, kernel_size=(1, 1), stride=(1, 1), bias=False)\n",
              "      (bn3): BatchNorm2d(2048, eps=1e-05, momentum=0.1, affine=True, track_running_stats=True)\n",
              "      (relu): ReLU(inplace=True)\n",
              "    )\n",
              "    (2): Bottleneck(\n",
              "      (conv1): Conv2d(2048, 512, kernel_size=(1, 1), stride=(1, 1), bias=False)\n",
              "      (bn1): BatchNorm2d(512, eps=1e-05, momentum=0.1, affine=True, track_running_stats=True)\n",
              "      (conv2): Conv2d(512, 512, kernel_size=(3, 3), stride=(1, 1), padding=(1, 1), bias=False)\n",
              "      (bn2): BatchNorm2d(512, eps=1e-05, momentum=0.1, affine=True, track_running_stats=True)\n",
              "      (conv3): Conv2d(512, 2048, kernel_size=(1, 1), stride=(1, 1), bias=False)\n",
              "      (bn3): BatchNorm2d(2048, eps=1e-05, momentum=0.1, affine=True, track_running_stats=True)\n",
              "      (relu): ReLU(inplace=True)\n",
              "    )\n",
              "  )\n",
              "  (avgpool): AdaptiveAvgPool2d(output_size=(1, 1))\n",
              "  (fc): Linear(in_features=2048, out_features=2, bias=True)\n",
              ")"
            ]
          },
          "metadata": {},
          "execution_count": 14
        }
      ]
    },
    {
      "cell_type": "markdown",
      "source": [
        "### 2.3 Set up the loss function and optimizer:"
      ],
      "metadata": {
        "id": "YoLY2Flm_cZ6"
      }
    },
    {
      "cell_type": "code",
      "source": [
        "criterion = nn.CrossEntropyLoss()\n",
        "optimizer = optim.SGD(model.parameters(), lr=0.001, momentum=0.9)"
      ],
      "metadata": {
        "id": "-mIMcC79-9tM"
      },
      "execution_count": null,
      "outputs": []
    },
    {
      "cell_type": "markdown",
      "source": [
        "### 2.4 Train the model:"
      ],
      "metadata": {
        "id": "vqafzVt8_l7a"
      }
    },
    {
      "cell_type": "code",
      "source": [
        "device = torch.device(\"cuda\" if torch.cuda.is_available() else \"cpu\")\n",
        "model.to(device)\n",
        "history = {'train_loss':[],'val_acc':[] , 'train_acc': [], 'val_loss':[]}\n",
        "\n",
        "def train(model, train_loader, val_loader=None, num_epochs=2, save=True):\n",
        "  best_loss = float('inf')  # Initialize with a high value for comparison\n",
        "  for epoch in range(num_epochs):\n",
        "      # Training code...\n",
        "      model.train()\n",
        "      running_loss = 0.0\n",
        "      epoch_loss = 0.0\n",
        "      correct_train_predictions = 0\n",
        "      total_train_predictions = 0\n",
        "      '''  for inputs, labels in train_loader: '''\n",
        "      for i, (inputs, labels) in enumerate(train_loader, 0):\n",
        "          inputs, labels = inputs.to(device), labels.to(device)\n",
        "          optimizer.zero_grad()\n",
        "\n",
        "          outputs = model(inputs)\n",
        "          _, predicted = torch.max(outputs.data, 1)  # Calculate predictions here\n",
        "          loss = criterion(outputs, labels)\n",
        "          loss.backward()\n",
        "          optimizer.step()\n",
        "\n",
        "          # print statistics\n",
        "          running_loss += loss.item()\n",
        "          epoch_loss += loss.item()\n",
        "\n",
        "          # Increment correct predictions\n",
        "          correct_train_predictions += (predicted == labels).sum().item()\n",
        "          total_train_predictions += labels.size(0)\n",
        "          if (i % 10) == 9:    # print every 10 mini-batches\n",
        "              print('[Epoch: %d, Batch: %4d / %4d], training loss: %.3f' %\n",
        "                  (epoch + 1, i + 1, len(train_loader), running_loss / 10))\n",
        "              running_loss = 0.0\n",
        "\n",
        "       # After all batches, calculate accuracy\n",
        "      training_accuracy = 100 * correct_train_predictions / total_train_predictions\n",
        "      print('Epoch [{}/{}], Loss: {:.4f}'.format(epoch+1, num_epochs, epoch_loss/len(train_loader)))\n",
        "      history['train_loss'].append(epoch_loss/len(train_loader))\n",
        "      history['train_acc'].append(training_accuracy)\n",
        "\n",
        "\n",
        "      # Validation code...\n",
        "      if val_loader:\n",
        "        model.eval()\n",
        "        validation_loss = 0.0\n",
        "\n",
        "        correct = 0\n",
        "        total = 0\n",
        "\n",
        "        with torch.no_grad():\n",
        "            for inputs, labels in val_loader:\n",
        "                inputs, labels = inputs.to(device), labels.to(device)\n",
        "                outputs = model(inputs)\n",
        "                _, predicted = torch.max(outputs.data, 1)\n",
        "\n",
        "                loss = criterion(outputs, labels)\n",
        "                validation_loss += loss.item()\n",
        "\n",
        "                total += labels.size(0)\n",
        "                correct += (predicted == labels).sum().item()\n",
        "\n",
        "        accuracy = 100 * correct / total\n",
        "        history['val_loss'].append(validation_loss)\n",
        "        history['val_acc'].append(accuracy)\n",
        "        print('Validation Accuracy: {:.2f}%'.format(accuracy))\n",
        "        print('Best Validation Loss: {:.3f}'.format(best_loss))\n",
        "        print('Validation Loss: {:.3f}'.format(validation_loss))\n",
        "\n",
        "        # Check if current model has the best loss\n",
        "        if validation_loss < best_loss:\n",
        "            best_loss = validation_loss\n",
        "            torch.save(model.state_dict(), 'best_model_weights.pth')\n",
        "\n",
        "\n",
        "\n",
        "        # save the model\n",
        "        if save:\n",
        "            torch.save(model.state_dict(), \"save_\" + str(epoch) + \".pth\")\n",
        "\n",
        "  print(\"Training finished.\")\n",
        "\n",
        "train(model, train_loader, val_loader, 1, True)"
      ],
      "metadata": {
        "id": "rVXiiUQV--AD",
        "colab": {
          "base_uri": "https://localhost:8080/"
        },
        "outputId": "9fae598d-3ab3-40ad-a666-d284e75a63e8"
      },
      "execution_count": null,
      "outputs": [
        {
          "output_type": "stream",
          "name": "stdout",
          "text": [
            "[Epoch: 1, Batch:   10 /   62], training loss: 0.308\n",
            "[Epoch: 1, Batch:   20 /   62], training loss: 0.339\n",
            "[Epoch: 1, Batch:   30 /   62], training loss: 0.313\n",
            "[Epoch: 1, Batch:   40 /   62], training loss: 0.247\n",
            "[Epoch: 1, Batch:   50 /   62], training loss: 0.277\n",
            "[Epoch: 1, Batch:   60 /   62], training loss: 0.277\n",
            "Epoch [1/1], Loss: 0.2938\n",
            "Validation Accuracy: 87.76%\n",
            "Best Validation Loss: inf\n",
            "Validation Loss: 2.491\n",
            "Training finished.\n"
          ]
        }
      ]
    },
    {
      "cell_type": "markdown",
      "source": [
        "### 2.5 Save the last weights (not the best)."
      ],
      "metadata": {
        "id": "BEKkx7WPTdA9"
      }
    },
    {
      "cell_type": "code",
      "source": [
        "# Save the model's state dictionary or specific parameters\n",
        "#torch.save(model.state_dict(), 'model_last_weights.pth')"
      ],
      "metadata": {
        "id": "7MxOdSmnTjFt"
      },
      "execution_count": null,
      "outputs": []
    },
    {
      "cell_type": "markdown",
      "source": [
        "### 2.6 Load the weights if needed."
      ],
      "metadata": {
        "id": "MnLTt9s2bdo3"
      }
    },
    {
      "cell_type": "code",
      "source": [
        "# Load the saved weights\n",
        "#model.load_state_dict(torch.load('./best_model_weights.pth'))\n",
        "model.load_state_dict(torch.load('../yolov7/weights/best_model_weights_epoch_2.pth'))"
      ],
      "metadata": {
        "colab": {
          "base_uri": "https://localhost:8080/"
        },
        "id": "l2lg-fwWbjDK",
        "outputId": "6ecbba1e-06d6-4d2d-8780-e2fa0a950379"
      },
      "execution_count": null,
      "outputs": [
        {
          "output_type": "execute_result",
          "data": {
            "text/plain": [
              "<All keys matched successfully>"
            ]
          },
          "metadata": {},
          "execution_count": 11
        }
      ]
    },
    {
      "cell_type": "markdown",
      "source": [
        "### 2.7 Test Model"
      ],
      "metadata": {
        "id": "Cyqgfdzb_sKx"
      }
    },
    {
      "cell_type": "code",
      "source": [
        "import torch\n",
        "\n",
        "# Assuming test_loader, model, and criterion are already defined\n",
        "device = torch.device(\"cuda\" if torch.cuda.is_available() else \"cpu\")\n",
        "model.to(device)\n",
        "model.eval()\n",
        "\n",
        "# Initialize lists to store predictions, labels, and probabilities\n",
        "all_preds = []\n",
        "all_labels = []\n",
        "all_probs = []\n",
        "\n",
        "# Initialize variables for test loss and accuracy computation\n",
        "test_loss = 0.0\n",
        "correct = 0\n",
        "total = 0\n",
        "\n",
        "with torch.no_grad():\n",
        "    for i, (inputs, labels) in enumerate(test_loader, 0):\n",
        "        print('Batch [%4d / %4d]' % (i+1, len(test_loader)))\n",
        "        inputs, labels = inputs.to(device), labels.to(device)\n",
        "\n",
        "        # Forward pass\n",
        "        outputs = model(inputs)\n",
        "\n",
        "        # Calculate loss\n",
        "        loss = criterion(outputs, labels)\n",
        "        test_loss += loss.item()\n",
        "\n",
        "        # Convert outputs to probabilities\n",
        "        probabilities = torch.softmax(outputs, dim=1)\n",
        "        all_probs += list(probabilities.cpu().numpy())\n",
        "\n",
        "        # Get predictions\n",
        "        _, preds = torch.max(outputs, 1)\n",
        "        all_preds += list(preds.cpu().numpy())\n",
        "        all_labels += list(labels.cpu().numpy())\n",
        "\n",
        "        # Update total and correct\n",
        "        total += labels.size(0)\n",
        "        correct += (preds == labels).sum().item()\n",
        "\n",
        "# Compute the accuracy\n",
        "accuracy = 100 * correct / total\n",
        "print('Test Loss: {:.4f}'.format(test_loss / len(test_loader)))\n",
        "print('Test Accuracy: {:.2f}%'.format(accuracy))"
      ],
      "metadata": {
        "colab": {
          "base_uri": "https://localhost:8080/"
        },
        "id": "pnMhR4zt_D2m",
        "outputId": "99b48b38-79f5-4ed2-cad9-05956e1424fe"
      },
      "execution_count": null,
      "outputs": [
        {
          "output_type": "stream",
          "name": "stdout",
          "text": [
            "Batch [   1 /    8]\n",
            "Batch [   2 /    8]\n",
            "Batch [   3 /    8]\n",
            "Batch [   4 /    8]\n",
            "Batch [   5 /    8]\n",
            "Batch [   6 /    8]\n",
            "Batch [   7 /    8]\n",
            "Batch [   8 /    8]\n",
            "Test Loss: 0.5653\n",
            "Test Accuracy: 69.64%\n"
          ]
        }
      ]
    },
    {
      "cell_type": "code",
      "source": [
        "classes= train_dataset.classes\n",
        "classes"
      ],
      "metadata": {
        "id": "Hk2a8GAPZvN8",
        "colab": {
          "base_uri": "https://localhost:8080/"
        },
        "outputId": "59734d15-d4be-4ab8-8aff-cd4dea420461"
      },
      "execution_count": null,
      "outputs": [
        {
          "output_type": "execute_result",
          "data": {
            "text/plain": [
              "['bad_carpet', 'good_carpet']"
            ]
          },
          "metadata": {},
          "execution_count": 37
        }
      ]
    },
    {
      "cell_type": "code",
      "source": [
        "from sklearn.metrics import confusion_matrix, classification_report, precision_recall_fscore_support, accuracy_score\n",
        "\n",
        "cm = confusion_matrix(all_labels, all_preds);\n",
        "cm"
      ],
      "metadata": {
        "colab": {
          "base_uri": "https://localhost:8080/"
        },
        "id": "c8nP0e85QaD_",
        "outputId": "43a13e3a-2486-4ce2-b54d-3575089adb7e"
      },
      "execution_count": null,
      "outputs": [
        {
          "output_type": "execute_result",
          "data": {
            "text/plain": [
              "array([[101,  28],\n",
              "       [  7, 111]])"
            ]
          },
          "metadata": {},
          "execution_count": 34
        }
      ]
    },
    {
      "cell_type": "code",
      "source": [
        "import itertools\n",
        "import numpy as np\n",
        "import matplotlib.pyplot as plt\n",
        "\n",
        "# function from https://deeplizard.com/learn/video/0LhiS6yu2qQ\n",
        "def plot_confusion_matrix(cm, classes, normalize=False, title='Confusion matrix', cmap=plt.cm.Blues):\n",
        "    if normalize:\n",
        "        cm = cm.astype('float') / cm.sum(axis=1)[:, np.newaxis]\n",
        "        print(\"Normalized confusion matrix\")\n",
        "    else:\n",
        "        print('Confusion matrix, without normalization')\n",
        "\n",
        "    plt.imshow(cm, interpolation='nearest', cmap=cmap)\n",
        "    plt.title(title)\n",
        "    plt.colorbar()\n",
        "    tick_marks = np.arange(len(classes))\n",
        "    plt.xticks(tick_marks, classes, rotation=45)\n",
        "    plt.yticks(tick_marks, classes)\n",
        "\n",
        "    fmt = '.2f' if normalize else 'd'\n",
        "    thresh = cm.max() / 2.\n",
        "    for i, j in itertools.product(range(cm.shape[0]), range(cm.shape[1])):\n",
        "        plt.text(j, i, format(cm[i, j], fmt), horizontalalignment=\"center\", color=\"black\" if cm[i, j] > thresh else \"black\")\n",
        "\n",
        "    plt.tight_layout()\n",
        "    plt.ylabel('True label')\n",
        "    plt.xlabel('Predicted label')"
      ],
      "metadata": {
        "id": "O86q9yxZQejd"
      },
      "execution_count": null,
      "outputs": []
    },
    {
      "cell_type": "code",
      "source": [
        "plt.figure(figsize=(8,8))\n",
        "plot_confusion_matrix(cm, classes, normalize=False)"
      ],
      "metadata": {
        "colab": {
          "base_uri": "https://localhost:8080/",
          "height": 803
        },
        "id": "nISwo8BiQh2m",
        "outputId": "ac651b21-24c1-4f30-dec0-721be34455b1"
      },
      "execution_count": null,
      "outputs": [
        {
          "output_type": "stream",
          "name": "stdout",
          "text": [
            "Confusion matrix, without normalization\n"
          ]
        },
        {
          "output_type": "display_data",
          "data": {
            "text/plain": [
              "<Figure size 800x800 with 2 Axes>"
            ],
            "image/png": "[encoded data removed]"
          },
          "metadata": {}
        }
      ]
    },
    {
      "cell_type": "code",
      "source": [
        "print(classification_report(all_labels, all_preds))\n",
        "print(accuracy_score(all_labels, all_preds))\n",
        "report = pd.DataFrame(list(precision_recall_fscore_support(all_labels, all_preds)),\n",
        "                          index=['Precision', 'Recall', 'F1-score', 'Support'],\n",
        "                          columns=[i for i in classes]).T\n",
        "accuracy = sum(cm.diagonal()) / (cm.sum(axis=1) + cm.sum(axis=0)+ sum(cm.diagonal()) - 2*cm.diagonal())\n",
        "report['Accuracy'] = accuracy\n",
        "report.drop('Support', axis=1, inplace=True)\n",
        "acc = np.zeros(report.shape[0])\n",
        "\n",
        "report = report.round(2)\n",
        "plt.figure(figsize = (10,7))\n",
        "sn.heatmap(report, annot=True)"
      ],
      "metadata": {
        "colab": {
          "base_uri": "https://localhost:8080/",
          "height": 796
        },
        "id": "ltOvcAyaQj98",
        "outputId": "0a9c2dfc-0fe0-4f1a-e648-3051cfaa2093"
      },
      "execution_count": null,
      "outputs": [
        {
          "output_type": "stream",
          "name": "stdout",
          "text": [
            "              precision    recall  f1-score   support\n",
            "\n",
            "           0       0.94      0.78      0.85       129\n",
            "           1       0.80      0.94      0.86       118\n",
            "\n",
            "    accuracy                           0.86       247\n",
            "   macro avg       0.87      0.86      0.86       247\n",
            "weighted avg       0.87      0.86      0.86       247\n",
            "\n",
            "0.8582995951417004\n"
          ]
        },
        {
          "output_type": "execute_result",
          "data": {
            "text/plain": [
              "<Axes: >"
            ]
          },
          "metadata": {},
          "execution_count": 39
        },
        {
          "output_type": "display_data",
          "data": {
            "text/plain": [
              "<Figure size 1000x700 with 2 Axes>"
            ],
            "image/png": "[encoded data removed]"
          },
          "metadata": {}
        }
      ]
    },
    {
      "cell_type": "code",
      "source": [
        "#Classification report\n",
        "from sklearn.metrics import accuracy_score,precision_score,recall_score,roc_curve,f1_score,classification_report,auc\n",
        "num_classes=2\n",
        "c_labels = [\"\" for x in range(num_classes)]\n",
        "for i in range(num_classes):\n",
        "  c_labels[i]=classes[i]\n",
        "print(classification_report(all_labels, all_preds, target_names=c_labels))\n",
        "\n",
        "#ROC curve for each class\n",
        "\n",
        "from sklearn.preprocessing import label_binarize\n",
        "from sklearn.metrics import roc_curve, auc\n",
        "import matplotlib.pyplot as plt\n",
        "num_classes=2\n",
        "fpr = dict()\n",
        "tpr = dict()\n",
        "roc_auc = dict()\n",
        "for i in range(num_classes):\n",
        "    y_true=label_binarize(all_labels, classes=[i])\n",
        "    y_pred=label_binarize(all_preds, classes=[i])\n",
        "    print(y_pred)\n",
        "    fpr[i], tpr[i], _=roc_curve(y_true, y_pred, pos_label=1)\n",
        "    roc_auc[i] = auc(fpr[i], tpr[i])\n",
        "\n",
        "\n",
        "for i in range(num_classes):\n",
        "  plt.plot(fpr[i], tpr[i],\n",
        "          label='ROC curve of class {0} (area = {1:0.2f})'\n",
        "          ''.format(classes[i], roc_auc[i]))\n",
        "\n",
        "\n",
        "plt.plot([0, 1], [0, 1], 'k--')\n",
        "plt.xlim([0.0, 1.0])\n",
        "plt.ylim([0.0, 1.05])\n",
        "plt.xlabel('False Positive Rate')\n",
        "plt.ylabel('True Positive Rate')\n",
        "plt.title('Receiver Operating Characteristic (ROC) curve for each class')\n",
        "plt.legend(loc='center left', bbox_to_anchor=(1, 0.65))\n",
        "plt.show()"
      ],
      "metadata": {
        "id": "7M1xnn66yLjy"
      },
      "execution_count": null,
      "outputs": []
    },
    {
      "cell_type": "code",
      "source": [
        "#Learning Curves train/val\n",
        "import matplotlib.pyplot as plt\n",
        "epochs = 3  # Example, set this to your actual number of epochs\n",
        "epochs_plot = list(range(1, epochs + 1))\n",
        "\n",
        "# Plotting training and validation loss\n",
        "plt.figure(figsize=(10, 5))\n",
        "plt.plot(epochs_plot, history['train_loss'], label='Training Loss')\n",
        "plt.plot(epochs_plot, history['val_loss'], label='Validation Loss')\n",
        "plt.title('Training vs. Validation Loss')\n",
        "plt.xlabel('Epochs')\n",
        "plt.ylabel('Loss')\n",
        "plt.legend()\n",
        "plt.show()\n",
        "\n",
        "# Plotting training and validation accuracy\n",
        "plt.figure(figsize=(10, 5))\n",
        "plt.plot(epochs_plot, history['train_acc'], label='Training Accuracy')\n",
        "plt.plot(epochs_plot, history['val_acc'], label='Validation Accuracy')\n",
        "plt.title('Training vs. Validation Accuracy')\n",
        "plt.xlabel('Epochs')\n",
        "plt.ylabel('Accuracy')\n",
        "plt.legend()\n",
        "plt.show()"
      ],
      "metadata": {
        "id": "fCbYeO0TyL3z"
      },
      "execution_count": null,
      "outputs": []
    },
    {
      "cell_type": "markdown",
      "source": [
        "## Cross Validation"
      ],
      "metadata": {
        "id": "CGIk-pWKy2uZ"
      }
    },
    {
      "cell_type": "code",
      "source": [
        "import copy\n",
        "import numpy as np\n",
        "import torch\n",
        "import torch.nn.functional as F\n",
        "from sklearn.metrics import accuracy_score\n",
        "from sklearn.model_selection import KFold\n",
        "from torch.utils.data import DataLoader, Subset, ConcatDataset\n",
        "from torchvision import datasets, models, transforms\n",
        "\n",
        "# Assume dataset is a combination of your training and validation datasets\n",
        "# Assume model is defined (for example, a modified ResNet)\n",
        "\n",
        "# Initialize model and optimizer for each fold\n",
        "model = torchvision.models.resnet101(pretrained=True)\n",
        "num_features = model.fc.in_features\n",
        "model.fc = nn.Linear(num_features, 2)  # 2 is the number of classes\n",
        "\n",
        "device = torch.device(\"cuda\" if torch.cuda.is_available() else \"cpu\")\n",
        "model.to(device)\n",
        "k_folds = 5\n",
        "num_epochs = 3\n",
        "batch_size = 32\n",
        "\n",
        "# Placeholder for results\n",
        "fold_results = {}\n",
        "epoch_results = {epoch: {'average_train_loss': [], 'average_train_acc': [], 'average_val_loss': [], 'average_val_acc': []} for epoch in range(num_epochs)}\n",
        "best_overall_model = {'accuracy': 0, 'state_dict': None}\n",
        "\n",
        "# Define your dataset and model\n",
        "dataset = ConcatDataset([train_dataset, val_dataset])  # Example, ensure you have your datasets combined\n",
        "\n",
        "def train_epoch(model, dataloader, optimizer, criterion):\n",
        "    model.train()\n",
        "    epoch_loss, running_loss, correct, total = 0.0, 0.0, 0, 0\n",
        "    for  i, (inputs, labels) in enumerate(dataloader, 0):\n",
        "        inputs, labels = inputs.to(device), labels.to(device)\n",
        "        optimizer.zero_grad()\n",
        "        outputs = model(inputs)\n",
        "        loss = criterion(outputs, labels)\n",
        "        loss.backward()\n",
        "        optimizer.step()\n",
        "\n",
        "         # print statistics\n",
        "        running_loss += loss.item()\n",
        "        epoch_loss += loss.item()\n",
        "\n",
        "        _, preds = torch.max(outputs, 1)\n",
        "        correct += (preds == labels).sum().item()\n",
        "        total += labels.size(0)\n",
        "        if (i % 10) == 9:    # print every 10 mini-batches\n",
        "              print('[Batch: %4d / %4d], training loss: %.3f' %\n",
        "                  (i + 1, len(dataloader), running_loss / 10))\n",
        "              running_loss = 0.0\n",
        "\n",
        "    print('Training Loss: {:.4f}'.format(epoch_loss/len(dataloader)))\n",
        "    train_loss = epoch_loss / len(dataloader)\n",
        "    train_acc = 100. * correct / total\n",
        "    return train_loss, train_acc\n",
        "\n",
        "def validate_epoch(model, dataloader, criterion):\n",
        "    model.eval()\n",
        "    validation_loss, correct, total = 0.0, 0, 0\n",
        "    all_preds, all_labels = [], []\n",
        "    with torch.no_grad():\n",
        "        for inputs, labels in dataloader:\n",
        "            inputs, labels = inputs.to(device), labels.to(device)\n",
        "            outputs = model(inputs)\n",
        "            loss = criterion(outputs, labels)\n",
        "            validation_loss += loss.item()\n",
        "            _, preds = torch.max(outputs, 1)\n",
        "            correct += (preds == labels).sum().item()\n",
        "            total += labels.size(0)\n",
        "            all_preds.extend(preds.cpu().numpy())\n",
        "            all_labels.extend(labels.cpu().numpy())\n",
        "\n",
        "    print('Validation Loss: {:.4f}'.format(validation_loss/len(dataloader)))\n",
        "    val_loss = validation_loss / len(dataloader)\n",
        "    val_acc = 100. * correct / total\n",
        "    return val_loss, val_acc, all_preds, all_labels\n",
        "\n",
        "# K-Fold Cross Validation\n",
        "kfold = KFold(n_splits=k_folds, shuffle=True)\n",
        "for fold, (train_ids, test_ids) in enumerate(kfold.split(dataset)):\n",
        "    # Prepare data loaders\n",
        "    train_subsampler = Subset(dataset, train_ids)\n",
        "    val_subsampler = Subset(dataset, test_ids)\n",
        "    train_loader = DataLoader(train_subsampler, batch_size=batch_size, shuffle=True)\n",
        "    val_loader = DataLoader(val_subsampler, batch_size=batch_size, shuffle=False)\n",
        "\n",
        "    # Initialize model and optimizer for each fold\n",
        "    model = torchvision.models.resnet101(pretrained=True)\n",
        "    num_features = model.fc.in_features\n",
        "    model.fc = nn.Linear(num_features, 2)  # 2 is the number of classes\n",
        "\n",
        "    device = torch.device(\"cuda\" if torch.cuda.is_available() else \"cpu\")\n",
        "    model.to(device)\n",
        "\n",
        "    criterion = nn.CrossEntropyLoss()\n",
        "    optimizer = optim.SGD(model.parameters(), lr=0.001, momentum=0.9)\n",
        "\n",
        "    best_val_acc = 0\n",
        "    for epoch in range(num_epochs):\n",
        "        #Print training summary\n",
        "        print(f'[Fold: {fold}, Epoch: {epoch+1}/{num_epochs}]')\n",
        "\n",
        "        train_loss, train_acc = train_epoch(model, train_loader, optimizer, criterion)\n",
        "        print(f'[Fold: {fold}, Epoch: {epoch+1}/{num_epochs}] Training loss: {train_loss:.4f}, Training acc: {train_acc:.2f}%')\n",
        "\n",
        "        val_loss, val_acc, val_preds, val_labels = validate_epoch(model, val_loader, criterion)\n",
        "        print(f'[Fold: {fold}, Epoch: {epoch+1}/{num_epochs}] Validation loss: {val_loss:.4f}, Validation acc: {val_acc:.2f}%')\n",
        "\n",
        "        # Update epoch results with averages later\n",
        "        # Add train_loss, train_acc, val_loss, val_acc to epoch_results[epoch]\n",
        "\n",
        "        if val_acc > best_val_acc:  # Check if this is the best model for this fold\n",
        "            best_val_acc = val_acc\n",
        "            fold_results[fold] = {\n",
        "                'best_model_for_each_fold_across_all_epochs': copy.deepcopy(model.state_dict()),\n",
        "                'all_preds_for_best_model_for_each_fold_across_all_epochs': val_preds,\n",
        "                'all_labels_for_best_model_for_each_fold_across_all_epochs': val_labels,\n",
        "                'acc_for_best_model_for_each_fold_across_all_epochs': best_val_acc,\n",
        "            }\n",
        "\n",
        "        # Update the epoch_results for averaging later\n",
        "        epoch_results[epoch]['average_train_loss'].append(train_loss)\n",
        "        epoch_results[epoch]['average_train_acc'].append(train_acc)\n",
        "        epoch_results[epoch]['average_val_loss'].append(val_loss)\n",
        "        epoch_results[epoch]['average_val_acc'].append(val_acc)\n",
        "\n",
        "    # Update overall best model across all folds, if current fold's best model is better\n",
        "    if best_val_acc > best_overall_model['accuracy']:\n",
        "        best_overall_model['accuracy'] = best_val_acc\n",
        "        best_overall_model['state_dict'] = copy.deepcopy(model.state_dict())\n",
        "\n",
        "# After completing all folds, average out the epoch metrics\n",
        "for epoch in epoch_results:\n",
        "    epoch_metrics = epoch_results[epoch]\n",
        "    epoch_metrics['average_train_loss'] = np.mean(epoch_metrics['average_train_loss'])\n",
        "    epoch_metrics['average_train_acc'] = np.mean(epoch_metrics['average_train_acc'])\n",
        "    epoch_metrics['average_val_loss'] = np.mean(epoch_metrics['average_val_loss'])\n",
        "    epoch_metrics['average_val_acc'] = np.mean(epoch_metrics['average_val_acc'])\n",
        "\n",
        "# Save the overall best model\n",
        "torch.save(best_overall_model['state_dict'], 'best_model_across_all_folds.pth')\n",
        "\n",
        "\n",
        "# Output or work with the results\n",
        "#print(\"Fold results:\", fold_results)\n",
        "print(\"Epoch averages:\", epoch_results)\n",
        "print(\"Best overall model accuracy:\", best_overall_model['accuracy'])\n"
      ],
      "metadata": {
        "id": "RaSOWuO1y6h_",
        "colab": {
          "base_uri": "https://localhost:8080/"
        },
        "outputId": "e15777fb-bbfe-4703-d0c5-c2f044719157"
      },
      "execution_count": null,
      "outputs": [
        {
          "metadata": {
            "tags": null
          },
          "name": "stderr",
          "output_type": "stream",
          "text": [
            "/usr/local/lib/python3.10/dist-packages/torchvision/models/_utils.py:208: UserWarning: The parameter 'pretrained' is deprecated since 0.13 and may be removed in the future, please use 'weights' instead.\n",
            "  warnings.warn(\n",
            "/usr/local/lib/python3.10/dist-packages/torchvision/models/_utils.py:223: UserWarning: Arguments other than a weight enum or `None` for 'weights' are deprecated since 0.13 and may be removed in the future. The current behavior is equivalent to passing `weights=ResNet101_Weights.IMAGENET1K_V1`. You can also use `weights=ResNet101_Weights.DEFAULT` to get the most up-to-date weights.\n",
            "  warnings.warn(msg)\n"
          ]
        },
        {
          "output_type": "stream",
          "name": "stdout",
          "text": [
            "[Fold: 0, Epoch: 1/3]\n",
            "[Batch:   10 /   56], training loss: 0.618\n",
            "[Batch:   20 /   56], training loss: 0.488\n",
            "[Batch:   30 /   56], training loss: 0.394\n",
            "[Batch:   40 /   56], training loss: 0.366\n",
            "[Batch:   50 /   56], training loss: 0.305\n",
            "Training Loss: 0.4358\n",
            "[Fold: 0, Epoch: 1/3] Training loss: 0.4358, Training acc: 79.69%\n",
            "Validation Loss: 0.2741\n",
            "[Fold: 0, Epoch: 1/3] Validation loss: 0.2741, Validation acc: 88.69%\n",
            "[Fold: 0, Epoch: 2/3]\n",
            "[Batch:   10 /   56], training loss: 0.316\n",
            "[Batch:   20 /   56], training loss: 0.310\n",
            "[Batch:   30 /   56], training loss: 0.283\n",
            "[Batch:   40 /   56], training loss: 0.249\n",
            "[Batch:   50 /   56], training loss: 0.303\n",
            "Training Loss: 0.2929\n",
            "[Fold: 0, Epoch: 2/3] Training loss: 0.2929, Training acc: 87.44%\n",
            "Validation Loss: 0.2614\n",
            "[Fold: 0, Epoch: 2/3] Validation loss: 0.2614, Validation acc: 89.37%\n",
            "[Fold: 0, Epoch: 3/3]\n",
            "[Batch:   10 /   56], training loss: 0.203\n",
            "[Batch:   20 /   56], training loss: 0.195\n",
            "[Batch:   30 /   56], training loss: 0.259\n",
            "[Batch:   40 /   56], training loss: 0.220\n",
            "[Batch:   50 /   56], training loss: 0.238\n",
            "Training Loss: 0.2174\n",
            "[Fold: 0, Epoch: 3/3] Training loss: 0.2174, Training acc: 91.23%\n",
            "Validation Loss: 0.2805\n",
            "[Fold: 0, Epoch: 3/3] Validation loss: 0.2805, Validation acc: 88.69%\n",
            "[Fold: 1, Epoch: 1/3]\n",
            "[Batch:   10 /   56], training loss: 0.591\n",
            "[Batch:   20 /   56], training loss: 0.435\n",
            "[Batch:   30 /   56], training loss: 0.347\n",
            "[Batch:   40 /   56], training loss: 0.357\n",
            "[Batch:   50 /   56], training loss: 0.370\n",
            "Training Loss: 0.4105\n",
            "[Fold: 1, Epoch: 1/3] Training loss: 0.4105, Training acc: 83.60%\n",
            "Validation Loss: 0.4099\n",
            "[Fold: 1, Epoch: 1/3] Validation loss: 0.4099, Validation acc: 81.90%\n",
            "[Fold: 1, Epoch: 2/3]\n",
            "[Batch:   10 /   56], training loss: 0.325\n",
            "[Batch:   20 /   56], training loss: 0.312\n",
            "[Batch:   30 /   56], training loss: 0.373\n",
            "[Batch:   40 /   56], training loss: 0.307\n",
            "[Batch:   50 /   56], training loss: 0.250\n",
            "Training Loss: 0.3066\n",
            "[Fold: 1, Epoch: 2/3] Training loss: 0.3066, Training acc: 87.50%\n",
            "Validation Loss: 0.3388\n",
            "[Fold: 1, Epoch: 2/3] Validation loss: 0.3388, Validation acc: 86.20%\n",
            "[Fold: 1, Epoch: 3/3]\n",
            "[Batch:   10 /   56], training loss: 0.260\n",
            "[Batch:   20 /   56], training loss: 0.172\n",
            "[Batch:   30 /   56], training loss: 0.220\n",
            "[Batch:   40 /   56], training loss: 0.195\n",
            "[Batch:   50 /   56], training loss: 0.227\n",
            "Training Loss: 0.2215\n",
            "[Fold: 1, Epoch: 3/3] Training loss: 0.2215, Training acc: 91.80%\n",
            "Validation Loss: 0.3249\n",
            "[Fold: 1, Epoch: 3/3] Validation loss: 0.3249, Validation acc: 87.10%\n",
            "[Fold: 2, Epoch: 1/3]\n",
            "[Batch:   10 /   56], training loss: 0.678\n",
            "[Batch:   20 /   56], training loss: 0.457\n",
            "[Batch:   30 /   56], training loss: 0.411\n",
            "[Batch:   40 /   56], training loss: 0.347\n",
            "[Batch:   50 /   56], training loss: 0.310\n",
            "Training Loss: 0.4250\n",
            "[Fold: 2, Epoch: 1/3] Training loss: 0.4250, Training acc: 78.96%\n",
            "Validation Loss: 0.2789\n",
            "[Fold: 2, Epoch: 1/3] Validation loss: 0.2789, Validation acc: 89.82%\n",
            "[Fold: 2, Epoch: 2/3]\n",
            "[Batch:   10 /   56], training loss: 0.294\n",
            "[Batch:   20 /   56], training loss: 0.206\n",
            "[Batch:   30 /   56], training loss: 0.314\n",
            "[Batch:   40 /   56], training loss: 0.284\n",
            "[Batch:   50 /   56], training loss: 0.345\n",
            "Training Loss: 0.2957\n",
            "[Fold: 2, Epoch: 2/3] Training loss: 0.2957, Training acc: 88.86%\n",
            "Validation Loss: 0.2840\n",
            "[Fold: 2, Epoch: 2/3] Validation loss: 0.2840, Validation acc: 89.14%\n",
            "[Fold: 2, Epoch: 3/3]\n",
            "[Batch:   10 /   56], training loss: 0.214\n",
            "[Batch:   20 /   56], training loss: 0.265\n",
            "[Batch:   30 /   56], training loss: 0.209\n",
            "[Batch:   40 /   56], training loss: 0.212\n",
            "[Batch:   50 /   56], training loss: 0.194\n",
            "Training Loss: 0.2323\n",
            "[Fold: 2, Epoch: 3/3] Training loss: 0.2323, Training acc: 91.06%\n",
            "Validation Loss: 0.2669\n",
            "[Fold: 2, Epoch: 3/3] Validation loss: 0.2669, Validation acc: 88.01%\n",
            "[Fold: 3, Epoch: 1/3]\n",
            "[Batch:   10 /   56], training loss: 0.604\n",
            "[Batch:   20 /   56], training loss: 0.455\n",
            "[Batch:   30 /   56], training loss: 0.410\n",
            "[Batch:   40 /   56], training loss: 0.327\n",
            "[Batch:   50 /   56], training loss: 0.299\n",
            "Training Loss: 0.4074\n",
            "[Fold: 3, Epoch: 1/3] Training loss: 0.4074, Training acc: 81.28%\n",
            "Validation Loss: 0.2922\n",
            "[Fold: 3, Epoch: 1/3] Validation loss: 0.2922, Validation acc: 88.91%\n",
            "[Fold: 3, Epoch: 2/3]\n",
            "[Batch:   10 /   56], training loss: 0.278\n",
            "[Batch:   20 /   56], training loss: 0.246\n",
            "[Batch:   30 /   56], training loss: 0.266\n",
            "[Batch:   40 /   56], training loss: 0.286\n",
            "[Batch:   50 /   56], training loss: 0.250\n",
            "Training Loss: 0.2689\n",
            "[Fold: 3, Epoch: 2/3] Training loss: 0.2689, Training acc: 89.20%\n",
            "Validation Loss: 0.2777\n",
            "[Fold: 3, Epoch: 2/3] Validation loss: 0.2777, Validation acc: 88.69%\n",
            "[Fold: 3, Epoch: 3/3]\n",
            "[Batch:   10 /   56], training loss: 0.251\n",
            "[Batch:   20 /   56], training loss: 0.230\n",
            "[Batch:   30 /   56], training loss: 0.201\n",
            "[Batch:   40 /   56], training loss: 0.230\n",
            "[Batch:   50 /   56], training loss: 0.228\n",
            "Training Loss: 0.2325\n",
            "[Fold: 3, Epoch: 3/3] Training loss: 0.2325, Training acc: 90.95%\n",
            "Validation Loss: 0.2763\n",
            "[Fold: 3, Epoch: 3/3] Validation loss: 0.2763, Validation acc: 88.91%\n",
            "[Fold: 4, Epoch: 1/3]\n",
            "[Batch:   10 /   56], training loss: 0.588\n",
            "[Batch:   20 /   56], training loss: 0.461\n",
            "[Batch:   30 /   56], training loss: 0.354\n",
            "[Batch:   40 /   56], training loss: 0.378\n",
            "[Batch:   50 /   56], training loss: 0.331\n",
            "Training Loss: 0.4199\n",
            "[Fold: 4, Epoch: 1/3] Training loss: 0.4199, Training acc: 80.37%\n",
            "Validation Loss: 0.2955\n",
            "[Fold: 4, Epoch: 1/3] Validation loss: 0.2955, Validation acc: 89.82%\n",
            "[Fold: 4, Epoch: 2/3]\n",
            "[Batch:   10 /   56], training loss: 0.267\n",
            "[Batch:   20 /   56], training loss: 0.291\n",
            "[Batch:   30 /   56], training loss: 0.292\n",
            "[Batch:   40 /   56], training loss: 0.295\n",
            "[Batch:   50 /   56], training loss: 0.286\n",
            "Training Loss: 0.2839\n",
            "[Fold: 4, Epoch: 2/3] Training loss: 0.2839, Training acc: 88.01%\n",
            "Validation Loss: 0.2744\n",
            "[Fold: 4, Epoch: 2/3] Validation loss: 0.2744, Validation acc: 88.69%\n",
            "[Fold: 4, Epoch: 3/3]\n",
            "[Batch:   10 /   56], training loss: 0.226\n",
            "[Batch:   20 /   56], training loss: 0.201\n",
            "[Batch:   30 /   56], training loss: 0.210\n",
            "[Batch:   40 /   56], training loss: 0.206\n",
            "[Batch:   50 /   56], training loss: 0.278\n",
            "Training Loss: 0.2203\n",
            "[Fold: 4, Epoch: 3/3] Training loss: 0.2203, Training acc: 91.46%\n",
            "Validation Loss: 0.2789\n",
            "[Fold: 4, Epoch: 3/3] Validation loss: 0.2789, Validation acc: 89.82%\n",
            "Epoch averages: {0: {'average_train_loss': 0.41971756134714394, 'average_train_acc': 80.78054298642533, 'average_val_loss': 0.3101174658962659, 'average_val_acc': 87.82805429864254}, 1: {'average_train_loss': 0.28960173965564795, 'average_train_acc': 88.20135746606336, 'average_val_loss': 0.28726761756198743, 'average_val_acc': 88.41628959276018}, 2: {'average_train_loss': 0.22481453360191414, 'average_train_acc': 91.30090497737558, 'average_val_loss': 0.28549003611717905, 'average_val_acc': 88.50678733031675}}\n",
            "Best overall model accuracy: 89.81900452488688\n"
          ]
        }
      ]
    },
    {
      "cell_type": "code",
      "source": [
        "fold_results[0]['acc_for_best_model_for_each_fold_across_all_epochs']"
      ],
      "metadata": {
        "colab": {
          "base_uri": "https://localhost:8080/"
        },
        "id": "0K7X9QaL6vOt",
        "outputId": "ae47d781-ad96-47ca-aaf0-2c6a32d43aa0"
      },
      "execution_count": null,
      "outputs": [
        {
          "data": {
            "text/plain": [
              "89.36651583710407"
            ]
          },
          "execution_count": 45,
          "metadata": {},
          "output_type": "execute_result"
        }
      ]
    },
    {
      "cell_type": "code",
      "source": [
        "best_overall_model['accuracy']"
      ],
      "metadata": {
        "colab": {
          "base_uri": "https://localhost:8080/"
        },
        "id": "jEYh6DX06yQx",
        "outputId": "b8338084-a38b-4532-d67b-fc0ebac2ccac"
      },
      "execution_count": null,
      "outputs": [
        {
          "output_type": "execute_result",
          "data": {
            "text/plain": [
              "89.81900452488688"
            ]
          },
          "metadata": {},
          "execution_count": 57
        }
      ]
    },
    {
      "cell_type": "code",
      "source": [
        "epoch_results"
      ],
      "metadata": {
        "colab": {
          "base_uri": "https://localhost:8080/"
        },
        "id": "T2MfwnBW6zeS",
        "outputId": "c9687af4-9aa2-4e16-b6b1-f3e21eaef45c"
      },
      "execution_count": null,
      "outputs": [
        {
          "output_type": "execute_result",
          "data": {
            "text/plain": [
              "{0: {'average_train_loss': 0.41971756134714394,\n",
              "  'average_train_acc': 80.78054298642533,\n",
              "  'average_val_loss': 0.3101174658962659,\n",
              "  'average_val_acc': 87.82805429864254},\n",
              " 1: {'average_train_loss': 0.28960173965564795,\n",
              "  'average_train_acc': 88.20135746606336,\n",
              "  'average_val_loss': 0.28726761756198743,\n",
              "  'average_val_acc': 88.41628959276018},\n",
              " 2: {'average_train_loss': 0.22481453360191414,\n",
              "  'average_train_acc': 91.30090497737558,\n",
              "  'average_val_loss': 0.28549003611717905,\n",
              "  'average_val_acc': 88.50678733031675}}"
            ]
          },
          "metadata": {},
          "execution_count": 58
        }
      ]
    },
    {
      "cell_type": "code",
      "source": [
        "classes= train_dataset.classes\n",
        "classes"
      ],
      "metadata": {
        "colab": {
          "base_uri": "https://localhost:8080/"
        },
        "id": "Hj-TU4NL7OSy",
        "outputId": "52ac3136-5564-4f9b-93cb-7ed9dbc0d35e"
      },
      "execution_count": null,
      "outputs": [
        {
          "output_type": "execute_result",
          "data": {
            "text/plain": [
              "['bad_carpet', 'good_carpet']"
            ]
          },
          "metadata": {},
          "execution_count": 48
        }
      ]
    },
    {
      "cell_type": "code",
      "source": [
        "from sklearn.metrics import confusion_matrix\n",
        "import numpy as np\n",
        "\n",
        "# Assuming fold_results is populated as described in previous steps\n",
        "\n",
        "confusion_matrices = []\n",
        "\n",
        "for fold in fold_results:\n",
        "    preds = fold_results[fold]['all_preds_for_best_model_for_each_fold_across_all_epochs']\n",
        "    labels = fold_results[fold]['all_labels_for_best_model_for_each_fold_across_all_epochs']\n",
        "    cm = confusion_matrix(labels, preds)\n",
        "    confusion_matrices.append(cm)\n",
        "\n",
        "# Calculate the mean confusion matrix\n",
        "mean_cm = np.mean(confusion_matrices, axis=0)\n",
        "# Rounding the elements of the mean confusion matrix to the nearest whole number\n",
        "rounded_mean_cm = np.around(mean_cm).astype(int)\n",
        "print(\"Mean Confusion Matrix:\\n\", rounded_mean_cm)"
      ],
      "metadata": {
        "colab": {
          "base_uri": "https://localhost:8080/"
        },
        "id": "HjCn1ed060hm",
        "outputId": "32800bb2-8461-4aa0-cc04-902056f0eac1"
      },
      "execution_count": null,
      "outputs": [
        {
          "metadata": {
            "tags": null
          },
          "name": "stdout",
          "output_type": "stream",
          "text": [
            "Mean Confusion Matrix:\n",
            " [[202  29]\n",
            " [ 19 192]]\n"
          ]
        }
      ]
    },
    {
      "cell_type": "code",
      "source": [
        "plt.figure(figsize=(8,8))\n",
        "plot_confusion_matrix(rounded_mean_cm, classes, normalize=False)"
      ],
      "metadata": {
        "colab": {
          "base_uri": "https://localhost:8080/",
          "height": 803
        },
        "id": "l6d3b-_fIuPU",
        "outputId": "df57b921-e1a5-49e2-8424-ff6c56d8f072"
      },
      "execution_count": null,
      "outputs": [
        {
          "output_type": "stream",
          "name": "stdout",
          "text": [
            "Confusion matrix, without normalization\n"
          ]
        },
        {
          "output_type": "display_data",
          "data": {
            "text/plain": [
              "<Figure size 800x800 with 2 Axes>"
            ],
            "image/png": "[encoded data removed]"
          },
          "metadata": {}
        }
      ]
    },
    {
      "cell_type": "code",
      "source": [
        "from sklearn.metrics import classification_report, precision_recall_fscore_support, confusion_matrix\n",
        "import numpy as np\n",
        "import pandas as pd\n",
        "import seaborn as sn\n",
        "import matplotlib.pyplot as plt\n",
        "\n",
        "all_preds = []\n",
        "all_labels = []\n",
        "\n",
        "# Assuming fold_results is populated\n",
        "for fold in fold_results:\n",
        "    all_preds.extend(fold_results[fold]['all_preds_for_best_model_for_each_fold_across_all_epochs'])\n",
        "    all_labels.extend(fold_results[fold]['all_labels_for_best_model_for_each_fold_across_all_epochs'])\n",
        "\n",
        "# Now calculate the metrics on the aggregated predictions and labels\n",
        "print(classification_report(all_labels, all_preds))\n",
        "\n",
        "# Calculate precision, recall, fscore\n",
        "precision, recall, fscore, support = precision_recall_fscore_support(all_labels, all_preds, average=None, labels=[i for i in range(len(classes))])\n",
        "\n",
        "# Calculate confusion matrix and then accuracy\n",
        "cm = confusion_matrix(all_labels, all_preds)\n",
        "accuracy = np.sum(cm.diagonal()) / np.sum(cm)\n",
        "\n",
        "# Construct DataFrame for the report\n",
        "report_df = pd.DataFrame({\n",
        "    'Precision': precision,\n",
        "    'Recall': recall,\n",
        "    'F1-score': fscore\n",
        "}, index=classes)\n",
        "\n",
        "# Add accuracy to the DataFrame. Note: This accuracy is overall, not per class.\n",
        "report_df['Accuracy'] = accuracy\n",
        "report_df.drop('Support', axis=1, inplace=True, errors='ignore')\n",
        "report_df = report_df.round(2)  # Rounding for display\n",
        "\n",
        "# Visualization with heatmap\n",
        "plt.figure(figsize=(10, 7))\n",
        "sn.heatmap(report_df, annot=True, cmap=\"YlGnBu\")\n",
        "plt.title(\"Classification Report Across All Folds Combined\")\n",
        "plt.show()"
      ],
      "metadata": {
        "colab": {
          "base_uri": "https://localhost:8080/",
          "height": 778
        },
        "id": "4w93dgMrI6TV",
        "outputId": "96e1b24d-09f9-4c7b-8367-e392f13f653e"
      },
      "execution_count": null,
      "outputs": [
        {
          "output_type": "stream",
          "name": "stdout",
          "text": [
            "              precision    recall  f1-score   support\n",
            "\n",
            "           0       0.91      0.87      0.89      1155\n",
            "           1       0.87      0.91      0.89      1055\n",
            "\n",
            "    accuracy                           0.89      2210\n",
            "   macro avg       0.89      0.89      0.89      2210\n",
            "weighted avg       0.89      0.89      0.89      2210\n",
            "\n"
          ]
        },
        {
          "output_type": "display_data",
          "data": {
            "text/plain": [
              "<Figure size 1000x700 with 2 Axes>"
            ],
            "image/png": "[encoded data removed]"
          },
          "metadata": {}
        }
      ]
    },
    {
      "cell_type": "code",
      "source": [
        "import matplotlib.pyplot as plt\n",
        "\n",
        "# Extracting values for plotting\n",
        "train_loss = [epoch_results[epoch]['average_train_loss'] for epoch in epoch_results]\n",
        "val_loss = [epoch_results[epoch]['average_val_loss'] for epoch in epoch_results]\n",
        "train_acc = [epoch_results[epoch]['average_train_acc'] for epoch in epoch_results]\n",
        "val_acc = [epoch_results[epoch]['average_val_acc'] for epoch in epoch_results]\n",
        "\n",
        "epochs = len(epoch_results)  # Number of epochs\n",
        "epochs_plot = list(range(1, epochs + 1))\n",
        "\n",
        "# Plotting training and validation loss\n",
        "plt.figure(figsize=(10, 5))\n",
        "plt.plot(epochs_plot, train_loss, label='Training Loss')\n",
        "plt.plot(epochs_plot, val_loss, label='Validation Loss')\n",
        "plt.title('Training vs. Validation Loss')\n",
        "plt.xlabel('Epochs')\n",
        "plt.ylabel('Loss')\n",
        "plt.legend()\n",
        "plt.show()\n",
        "\n",
        "# Plotting training and validation accuracy\n",
        "plt.figure(figsize=(10, 5))\n",
        "plt.plot(epochs_plot, train_acc, label='Training Accuracy')\n",
        "plt.plot(epochs_plot, val_acc, label='Validation Accuracy')\n",
        "plt.title('Training vs. Validation Accuracy')\n",
        "plt.xlabel('Epochs')\n",
        "plt.ylabel('Accuracy')\n",
        "plt.legend()\n",
        "plt.show()"
      ],
      "metadata": {
        "colab": {
          "base_uri": "https://localhost:8080/",
          "height": 957
        },
        "id": "iZ6C-fkPHgkQ",
        "outputId": "e89d0de1-0dc8-40f2-954e-85f5041dfd84"
      },
      "execution_count": null,
      "outputs": [
        {
          "output_type": "display_data",
          "data": {
            "text/plain": [
              "<Figure size 1000x500 with 1 Axes>"
            ],
            "image/png": "[encoded data removed]"
          },
          "metadata": {}
        },
        {
          "output_type": "display_data",
          "data": {
            "text/plain": [
              "<Figure size 1000x500 with 1 Axes>"
            ],
            "image/png": "[encoded data removed]"
          },
          "metadata": {}
        }
      ]
    },
    {
      "cell_type": "code",
      "source": [
        "model.load_state_dict(torch.load('best_model_across_all_folds.pth'))\n",
        "import torch\n",
        "\n",
        "# Assuming test_loader, model, and criterion are already defined\n",
        "device = torch.device(\"cuda\" if torch.cuda.is_available() else \"cpu\")\n",
        "model.to(device)\n",
        "model.eval()\n",
        "\n",
        "# Initialize lists to store predictions, labels, and probabilities\n",
        "all_preds = []\n",
        "all_labels = []\n",
        "all_probs = []\n",
        "\n",
        "# Initialize variables for test loss and accuracy computation\n",
        "test_loss = 0.0\n",
        "correct = 0\n",
        "total = 0\n",
        "\n",
        "with torch.no_grad():\n",
        "    for i, (inputs, labels) in enumerate(test_loader, 0):\n",
        "        print('Batch [%4d / %4d]' % (i+1, len(test_loader)))\n",
        "        inputs, labels = inputs.to(device), labels.to(device)\n",
        "\n",
        "        # Forward pass\n",
        "        outputs = model(inputs)\n",
        "\n",
        "        # Calculate loss\n",
        "        loss = criterion(outputs, labels)\n",
        "        test_loss += loss.item()\n",
        "\n",
        "        # Convert outputs to probabilities\n",
        "        probabilities = torch.softmax(outputs.data, dim=1)\n",
        "        all_probs += list(probabilities.numpy())\n",
        "\n",
        "        # Get predictions\n",
        "        _, preds = torch.max(outputs.data, 1)\n",
        "        all_preds += list(preds.numpy())\n",
        "        all_labels += list(labels.numpy())\n",
        "\n",
        "        # Update total and correct\n",
        "        total += labels.size(0)\n",
        "        correct += (preds == labels).sum().item()\n",
        "\n",
        "# Compute the accuracy\n",
        "accuracy = 100 * correct / total\n",
        "print('Test Loss: {:.4f}'.format(test_loss / len(test_loader)))\n",
        "print('Test Accuracy: {:.2f}%'.format(accuracy))"
      ],
      "metadata": {
        "colab": {
          "base_uri": "https://localhost:8080/"
        },
        "id": "EGAslxPTIjfZ",
        "outputId": "6293d3f4-03f3-48c4-8725-7233cc1eb3ec"
      },
      "execution_count": null,
      "outputs": [
        {
          "output_type": "stream",
          "name": "stdout",
          "text": [
            "Batch [   1 /    8]\n",
            "Batch [   2 /    8]\n",
            "Batch [   3 /    8]\n",
            "Batch [   4 /    8]\n",
            "Batch [   5 /    8]\n",
            "Batch [   6 /    8]\n",
            "Batch [   7 /    8]\n",
            "Batch [   8 /    8]\n",
            "Test Loss: 0.3202\n",
            "Test Accuracy: 90.28%\n"
          ]
        }
      ]
    },
    {
      "cell_type": "code",
      "source": [
        "from sklearn.metrics import confusion_matrix, classification_report, precision_recall_fscore_support, accuracy_score\n",
        "\n",
        "cm = confusion_matrix(all_labels, all_preds);\n",
        "cm"
      ],
      "metadata": {
        "colab": {
          "base_uri": "https://localhost:8080/"
        },
        "id": "czgL_mJPLoid",
        "outputId": "dd656326-9046-4cb4-d74e-8c3c9bd9a9d9"
      },
      "execution_count": null,
      "outputs": [
        {
          "data": {
            "text/plain": [
              "array([[120,   9],\n",
              "       [ 15, 103]])"
            ]
          },
          "execution_count": 54,
          "metadata": {},
          "output_type": "execute_result"
        }
      ]
    },
    {
      "cell_type": "code",
      "source": [
        "plt.figure(figsize=(8,8))\n",
        "plot_confusion_matrix(cm, classes, normalize=False)"
      ],
      "metadata": {
        "colab": {
          "base_uri": "https://localhost:8080/",
          "height": 803
        },
        "id": "iv2r3hE9OKIw",
        "outputId": "8a419891-6277-43b4-eac4-52acb7607966"
      },
      "execution_count": null,
      "outputs": [
        {
          "output_type": "stream",
          "name": "stdout",
          "text": [
            "Confusion matrix, without normalization\n"
          ]
        },
        {
          "output_type": "display_data",
          "data": {
            "text/plain": [
              "<Figure size 800x800 with 2 Axes>"
            ],
            "image/png": "[encoded data removed]"
          },
          "metadata": {}
        }
      ]
    },
    {
      "cell_type": "code",
      "source": [
        "print(classification_report(all_labels, all_preds))\n",
        "print(accuracy_score(all_labels, all_preds))\n",
        "report = pd.DataFrame(list(precision_recall_fscore_support(all_labels, all_preds)),\n",
        "                          index=['Precision', 'Recall', 'F1-score', 'Support'],\n",
        "                          columns=[i for i in classes]).T\n",
        "accuracy = sum(cm.diagonal()) / (cm.sum(axis=1) + cm.sum(axis=0)+ sum(cm.diagonal()) - 2*cm.diagonal())\n",
        "report['Accuracy'] = accuracy\n",
        "report.drop('Support', axis=1, inplace=True)\n",
        "acc = np.zeros(report.shape[0])\n",
        "\n",
        "report = report.round(2)\n",
        "plt.figure(figsize = (10,7))\n",
        "sn.heatmap(report, annot=True, cmap=\"YlGnBu\")\n"
      ],
      "metadata": {
        "colab": {
          "base_uri": "https://localhost:8080/",
          "height": 796
        },
        "id": "stitXT6ZOPNw",
        "outputId": "d76b9453-dbd3-4f9c-b35e-9b216421bacd"
      },
      "execution_count": null,
      "outputs": [
        {
          "output_type": "stream",
          "name": "stdout",
          "text": [
            "              precision    recall  f1-score   support\n",
            "\n",
            "           0       0.89      0.93      0.91       129\n",
            "           1       0.92      0.87      0.90       118\n",
            "\n",
            "    accuracy                           0.90       247\n",
            "   macro avg       0.90      0.90      0.90       247\n",
            "weighted avg       0.90      0.90      0.90       247\n",
            "\n",
            "0.902834008097166\n"
          ]
        },
        {
          "output_type": "execute_result",
          "data": {
            "text/plain": [
              "<Axes: >"
            ]
          },
          "metadata": {},
          "execution_count": 56
        },
        {
          "output_type": "display_data",
          "data": {
            "text/plain": [
              "<Figure size 1000x700 with 2 Axes>"
            ],
            "image/png": "[encoded data removed]"
          },
          "metadata": {}
        }
      ]
    },
    {
      "cell_type": "code",
      "source": [],
      "metadata": {
        "id": "kmk4Ee7FRAOb"
      },
      "execution_count": null,
      "outputs": []
    }
  ]
}